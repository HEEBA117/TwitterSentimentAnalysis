{
 "cells": [
  {
   "cell_type": "markdown",
   "metadata": {},
   "source": [
    "# <font color ='black'>Twitter sentiment classification using Apache Spark:</font>\n",
    "#### <font color ='black'>This project is done by\n",
    "- Nitin Surya (nsurya3)\n",
    "- Heeba Mohammed Ali (hmoham23)\n",
    "\n",
    "Abstract: Sentiment analysis is done on the tweets using different machine learning techniques in Apache Spark. The faeatures are extracted from data and supervised learning models are built. The model automatically classifies the tweets as positive or negative. We have used three techniques in our project namely Naive bayes, Logistic Regression and Decision Tree Modeling. We have observed the training accuracy, 5-fold validation accuracy and test accuracy,  F1 measure , precision and recall  and compared them to identify the best classifier amongst these classifiers.</font> "
   ]
  },
  {
   "cell_type": "markdown",
   "metadata": {},
   "source": [
    "#### <font color = 'black'> Application dependencies </font>\n",
    "<font color = 'black'>\n",
    "<pre>\n",
    "- Jupyter\n",
    "- NLTK\n",
    "- Pyspark\n",
    "- Numpy\n",
    "- Matplotlib\n",
    "</pre>\n",
    "</font>"
   ]
  },
  {
   "cell_type": "markdown",
   "metadata": {},
   "source": [
    "#### <font color = 'black'>1. Tweet Processing: </font>\n",
    "<font color = 'black' > \n",
    "a.\tAll the tweets are passed to a function called get_cleaned_tweet()<br>\n",
    "b.\tGet_cleaned_tweet() internally calls the get_cleaned_word() method which cleans the individual words of the tweet<br>\n",
    "    &nbsp;&nbsp;&nbsp;i. Uses Porter’s stemmer algorithm for stemming with NLTK library<br>\n",
    "    &nbsp;&nbsp;&nbsp;ii. Stop words are removed by checking with the custom stop word file, from HW3<br>\n",
    "    &nbsp;&nbsp;&nbsp;iii. All the words were converted to lower case for simplicity<br>\n",
    "    &nbsp;&nbsp;&nbsp;iv. Punctuations were stripped<br>\n",
    "    &nbsp;&nbsp;&nbsp;v. Multiple occurences of character are replaced by 2 occurences<br>\n",
    "    &nbsp;&nbsp;&nbsp;vi. Hashtags were replaced in the beginning of word. @ mentiones were replaced with 'AT_USER'<br>\n",
    "    &nbsp;&nbsp;&nbsp;vii. 'http' etc links replaced with 'URL'<br>\n",
    "    &nbsp;&nbsp;&nbsp;viii. Only words greater than 1 character were included<br>\n",
    "c.\tThe cleaned text is passed as a list to feature extraction function<br>\n",
    "d.\tFeature extraction & Transformation is done using:<br>\n",
    "&nbsp;&nbsp;&nbsp;&nbsp;&nbsp;&nbsp;i.\tpyspark.mllib.feature.HashingTF<br>\n",
    "e.\tThis is converted into a labelled point and given to the spark context which converts it into an RDD vector<br>\n",
    "f.\tThe words are the individual features<br>\n",
    "</font>"
   ]
  },
  {
   "cell_type": "markdown",
   "metadata": {},
   "source": [
    "#### <font color = 'black'> 2. Feature Space</font>\n",
    "<font color = 'black'>\n",
    "a. The feature space is the set of all words in the tweets<br>\n",
    "b. We are considering unigrams<br>\n",
    "c. The size of the feature space:<br>\n",
    "        &nbsp;&nbsp;&nbsp;i. Entire set of words for NB and LOG<br>\n",
    "        &nbsp;&nbsp;&nbsp;ii. 100 features for DT<br>\n",
    "</font>\n",
    "\n"
   ]
  },
  {
   "cell_type": "markdown",
   "metadata": {},
   "source": [
    "#### <font color = 'black'>3. Experiment Results: </font>\n",
    "<font color = 'black'>\n",
    "<table>\n",
    "<tr>\n",
    "<td>Algorithm</td>\n",
    "<td>Training accuracy</td>\n",
    "<td>5 fold cross validation accuracy</td>\n",
    "<td>Test accuracy</td>\n",
    "<td>Avg precision</td>\n",
    "</tr>\n",
    "<tr>\n",
    "<td>NB</td>\n",
    "<td> 83% </td>\n",
    "<td> 74% </td>\n",
    "<td> 78% </td>\n",
    "<td> 0.83</td>\n",
    "</tr>\n",
    "<tr>\n",
    "<td>LOG</td>\n",
    "<td> 70% </td>\n",
    "<td> 71% </td>\n",
    "<td> 70% </td>\n",
    "<td> 0.69</td>\n",
    "</tr>\n",
    "<tr>\n",
    "<td>DT</td>\n",
    "<td> 61% </td>\n",
    "<td> 60% </td>\n",
    "<td> 59% </td>\n",
    "<td> </td>\n",
    "</tr>\n",
    "</table>\n",
    "</font>\n",
    "<br/>"
   ]
  },
  {
   "cell_type": "markdown",
   "metadata": {},
   "source": [
    "#### <font color = 'black'> Evaluation Metrics details </font>\n",
    "<font color = 'black'>\n",
    "<pre>\n",
    "1. Confusion Matrix:\n",
    " - \"True positive\" indicate the prediction model correctly suggested a tweet to be positive.\n",
    " - \"True negative\" indicate the prediction model correctly suggested a tweet to be negative.\n",
    " - \"False positive\" indicate the prediction model incorrectly suggested a tweet to be positive.\n",
    " - \"False negative\" indicate the prediction model incorrectly suggested a tweet to be negative.\n",
    "\n",
    "2. Precision:\n",
    " - The correct tweet, out of all the tweets predicted as positive.\n",
    "</pre>\n",
    "</font>"
   ]
  },
  {
   "cell_type": "markdown",
   "metadata": {},
   "source": [
    "#### <font color = 'black'> Results </font>\n",
    "<font color = 'black'>\n",
    "<pre>\n",
    "After trying Naive bayes, Logistic regression and Decision trees, it was observed that Naive bayes performs best,\n",
    "as it gave the highest accuracy and precision.\n",
    "\n",
    "It was also observed that, no significant overfitting was observed, as the accuracy in the training set was\n",
    "similar to the test set\n",
    "</pre>\n",
    "</font>"
   ]
  },
  {
   "cell_type": "code",
   "execution_count": 1,
   "metadata": {
    "collapsed": false
   },
   "outputs": [],
   "source": [
    "import json\n",
    "import csv\n",
    "import findspark\n",
    "findspark.init()\n",
    "import pyspark\n",
    "from pyspark.sql import SQLContext\n",
    "\n",
    "sc = pyspark.SparkContext(appName=\"first spark based notebook\")\n",
    "\n",
    "NETID = \"nsurya3\""
   ]
  },
  {
   "cell_type": "code",
   "execution_count": 105,
   "metadata": {
    "collapsed": false
   },
   "outputs": [],
   "source": [
    "%matplotlib inline   # used to display graphs inside the jupyter\n",
    "\n",
    "# classifiers and regression models used\n",
    "from pyspark.mllib.classification import NaiveBayes, NaiveBayesModel, LogisticRegressionWithLBFGS, LogisticRegressionModel\n",
    "from pyspark.mllib.regression import LabeledPoint\n",
    "from pyspark.mllib.tree import DecisionTree, DecisionTreeModel\n",
    "\n",
    "from pyspark.mllib.linalg import Vectors\n",
    "# feature extraction options\n",
    "from pyspark.mllib.feature import HashingTF\n",
    "# evaluation metrics for getting precision recall, f1 measure, AUC ROC etc.\n",
    "from pyspark.mllib.evaluation import MulticlassMetrics\n",
    "# for graphs\n",
    "import matplotlib.pyplot as plt\n",
    "\n",
    "import numpy as np\n",
    "\n",
    "#nltk\n",
    "import string\n",
    "from nltk.tokenize import word_tokenize\n",
    "from nltk.corpus import stopwords\n",
    "from nltk.stem.porter import PorterStemmer"
   ]
  },
  {
   "cell_type": "markdown",
   "metadata": {},
   "source": [
    "<font color = 'black'> \n",
    "<pre>\n",
    "Cleaning Pre-steps:\n",
    "1. The stop words file is read to make a stop word corpus to check for stop words.\n",
    "2. The NLTK library functions are used to identify Punctuations\n",
    "3. Porters stemmer algorithm is initilaized for stemming\n",
    "</pre> </font>"
   ]
  },
  {
   "cell_type": "code",
   "execution_count": 3,
   "metadata": {
    "collapsed": false
   },
   "outputs": [],
   "source": [
    "stop_words_file = open('./data/stopwords.txt')\n",
    "stop_words = []\n",
    "\n",
    "for word in stop_words_file:\n",
    "    stop_words.append(word.strip())\n",
    "\n",
    "# Module-level global variables for the `tokenize` function below\n",
    "PUNCTUATION = set(string.punctuation)\n",
    "STOPWORDS = set(stop_words)\n",
    "STEMMER = PorterStemmer()"
   ]
  },
  {
   "cell_type": "markdown",
   "metadata": {},
   "source": [
    "### <font color = 'black'>1. displayMetrics function:</font><br/>\n",
    "<font color = 'black'> This function computes and displays accuracy of the classifier, Precision, Recall, Fmeasure, Area under ROC, Confusion Matrix</font>"
   ]
  },
  {
   "cell_type": "code",
   "execution_count": 119,
   "metadata": {
    "collapsed": false
   },
   "outputs": [],
   "source": [
    "# Returns: accuracy, truePositiveRate, falsePositiveRate\n",
    "def displayMetrics(metrics, predictionAndLabel, test, showMetrics = True):\n",
    "    accuracy = (1.0 * predictionAndLabel.filter(lambda x: x[0] == x[1]).count() / test.count())\n",
    "\n",
    "    if(showMetrics):\n",
    "        print('Confusion Matrix:')\n",
    "        print(metrics.confusionMatrix().toArray())\n",
    "        print(\"Accuracy = %s\" % accuracy)\n",
    "        print(\"Precision = %s\" % metrics.precision())\n",
    "        # Area under precision-recall curve\n",
    "        print(\"Recall = %s\" % metrics.recall())\n",
    "        print(\"fMeasure = %s\" % metrics.fMeasure(0.0))\n",
    "        print()\n",
    "\n",
    "    return accuracy, metrics.truePositiveRate(0.0), metrics.falsePositiveRate(0.0)"
   ]
  },
  {
   "cell_type": "markdown",
   "metadata": {},
   "source": [
    "### <font color = 'black'>2. get_clean_word function:</font><br/>\n",
    "<font color = 'black'> This function is called to clean the individual words (features) of the tweet during feature extraction process</font>"
   ]
  },
  {
   "cell_type": "code",
   "execution_count": 120,
   "metadata": {
    "collapsed": false
   },
   "outputs": [],
   "source": [
    "# Returns a cleaned, and simple letters based word\n",
    "def get_clean_word(word):    \n",
    "    while(len(word) > 0 and not (word[0].isalpha() or word[0] in ('#', '@', ':', ';'))): # removing numbers and special chars from beginning\n",
    "        word = word[1:]\n",
    "    \n",
    "    if(len(word) > 0):\n",
    "        if(word[0] == '@'): # is user ref\n",
    "            return \"AT_USER\"\n",
    "        elif(word.startswith(\"http:\") or word.startswith(\"https:\") or word.startswith(\"www\")): # URLs\n",
    "            return 'URL'\n",
    "        elif(word[0] == '#'): # tags\n",
    "            return word[1:]\n",
    "        elif(word[0] in [';', ':']):\n",
    "            return word\n",
    "\n",
    "    while(len(word) > 0 and not word[-1].isalpha()): # removing numbers and special chars from end\n",
    "        word = word[0:-1]\n",
    "\n",
    "    if(len(word) > 0 and (word[0] == '@' or word[0] == '#' or word.startswith(\"http:\") or word.startswith(\"https:\"))):\n",
    "        return \"\"\n",
    "    \n",
    "    # removing continuous characters e.g. awwww -> aww\n",
    "    temp_word = word\n",
    "    word_len = len(temp_word)\n",
    "    prev_index, word = 0, \"\"\n",
    "    for index, char in enumerate(temp_word):\n",
    "        if index == 0:\n",
    "            word = word + char\n",
    "            continue\n",
    "        \n",
    "        if(temp_word[index - 1] == temp_word[index]):\n",
    "            continue\n",
    "        else:\n",
    "            if(index - prev_index >= 2):\n",
    "                word = word + temp_word[index-1]\n",
    "\n",
    "            prev_index = index\n",
    "            word = word + char\n",
    "\n",
    "    # for last character handling\n",
    "    if(len(temp_word) - 1 - prev_index >= 2):\n",
    "        word = word + temp_word[index-1]\n",
    "    \n",
    "    word = STEMMER.stem(word) # finally stemming the word using nltk stemmer\n",
    "\n",
    "    return word.lower()"
   ]
  },
  {
   "cell_type": "markdown",
   "metadata": {},
   "source": [
    "### <font color = 'black'>3. get_cleaned_tweet function:</font><br/>\n",
    "<font color = 'black'> This function returns LabeledPoint Hashedtf of final cleaned words, and polarity.</font> "
   ]
  },
  {
   "cell_type": "code",
   "execution_count": 166,
   "metadata": {
    "collapsed": true
   },
   "outputs": [],
   "source": [
    "# returns array of final cleaned words, the original json text and the complete tweet json parsed\n",
    "def get_cleaned_tweet(tweet_csv_line, get_id = False):\n",
    "    tweet_csv_line = tweet_csv_line.strip().split(',')\n",
    "    tweet_obj = ','.join(tweet_csv_line[5:])[1:-1]\n",
    "    label = float(tweet_csv_line[0].strip('\"'))\n",
    "    json_format=False\n",
    "    tweet_json = {'text': tweet_obj}\n",
    "    tweet_text = tweet_obj\n",
    "\n",
    "    parsed_tweet = tweet_text.strip().replace(',', ' ').split()\n",
    "    final_words = []\n",
    "    for word in parsed_tweet:\n",
    "        if word in STOPWORDS:\n",
    "            continue\n",
    "\n",
    "        word = get_clean_word(word)\n",
    "        if len(word) > 2:\n",
    "            final_words.append(word)\n",
    "\n",
    "    words_vector = hashingTF.transform(final_words)\n",
    "    labelled_point = LabeledPoint(label, words_vector)\n",
    "    if(get_id):\n",
    "        return [tweet_obj, labelled_point]\n",
    "    else:\n",
    "        return labelled_point"
   ]
  },
  {
   "cell_type": "markdown",
   "metadata": {},
   "source": [
    "### <font color = 'black'>4. Naive bayes function</font><br/>\n",
    "<font color = 'black'> Creates a model using training data if not present.\n",
    "Setting the metrics and preciation and label variables</font> "
   ]
  },
  {
   "cell_type": "code",
   "execution_count": 121,
   "metadata": {
    "collapsed": true
   },
   "outputs": [],
   "source": [
    "def naiveBayes(training, test, model=None):\n",
    "    if(model == None):\n",
    "        model = NaiveBayes.train(training, 1.0)\n",
    "    predictionAndLabel = test.map(lambda p: (float(model.predict(p.features)), p.label))\n",
    "    metrics = MulticlassMetrics(predictionAndLabel)\n",
    "    return displayMetrics(metrics, predictionAndLabel, test), model"
   ]
  },
  {
   "cell_type": "markdown",
   "metadata": {},
   "source": [
    "<font color = 'black'>Training the model with the train data</font> "
   ]
  },
  {
   "cell_type": "code",
   "execution_count": 126,
   "metadata": {
    "collapsed": false
   },
   "outputs": [
    {
     "name": "stdout",
     "output_type": "stream",
     "text": [
      "Confusion Matrix:\n",
      "[[ 10089.   1938.]\n",
      " [  2249.   9932.]]\n",
      "Accuracy = 0.827040647719762\n",
      "Precision = 0.827040647719762\n",
      "Recall = 0.827040647719762\n",
      "fMeasure = 0.8281551405704904\n",
      "\n"
     ]
    }
   ],
   "source": [
    "hashingTF = HashingTF()\n",
    "data = sc.textFile('./data/train.csv', use_unicode=True).map(get_cleaned_tweet)\n",
    "#idf = IDF()\n",
    "#model = idf.fit(data)\n",
    "training, test = data, data.sample(False, 0.3)\n",
    "(acc_val, actual, predication), naiveBayesModel = naiveBayes(training, test)"
   ]
  },
  {
   "cell_type": "markdown",
   "metadata": {},
   "source": [
    "<font color = 'black'>Testing the model with the test data</font> "
   ]
  },
  {
   "cell_type": "code",
   "execution_count": 127,
   "metadata": {
    "collapsed": false
   },
   "outputs": [
    {
     "name": "stdout",
     "output_type": "stream",
     "text": [
      "Confusion Matrix:\n",
      "[[ 140.   37.]\n",
      " [  41.  141.]]\n",
      "Accuracy = 0.7827298050139275\n",
      "Precision = 0.7827298050139275\n",
      "Recall = 0.7827298050139275\n",
      "fMeasure = 0.782122905027933\n",
      "\n"
     ]
    }
   ],
   "source": [
    "hashingTF = HashingTF()\n",
    "testcsv_data = sc.textFile('./data/test.csv', use_unicode=True).map(get_cleaned_tweet)\n",
    "(acc_val, actual, predication), model = naiveBayes([], testcsv_data, naiveBayesModel)"
   ]
  },
  {
   "cell_type": "markdown",
   "metadata": {},
   "source": [
    "<font color = 'black'> 5 fold validation of a naive Bayes model</font> "
   ]
  },
  {
   "cell_type": "code",
   "execution_count": 178,
   "metadata": {
    "collapsed": false
   },
   "outputs": [
    {
     "name": "stdout",
     "output_type": "stream",
     "text": [
      "Confusion Matrix:\n"
     ]
    },
    {
     "ename": "KeyboardInterrupt",
     "evalue": "",
     "output_type": "error",
     "traceback": [
      "\u001b[1;31m---------------------------------------------------------------------------\u001b[0m",
      "\u001b[1;31mKeyboardInterrupt\u001b[0m                         Traceback (most recent call last)",
      "\u001b[1;32m<ipython-input-178-e18e63a167cf>\u001b[0m in \u001b[0;36m<module>\u001b[1;34m()\u001b[0m\n\u001b[0;32m     15\u001b[0m     \u001b[0mtraining\u001b[0m \u001b[1;33m=\u001b[0m \u001b[0mcombined_set\u001b[0m\u001b[1;33m\u001b[0m\u001b[0m\n\u001b[0;32m     16\u001b[0m     \u001b[0mtest\u001b[0m \u001b[1;33m=\u001b[0m \u001b[0mtest_set\u001b[0m\u001b[1;33m\u001b[0m\u001b[0m\n\u001b[1;32m---> 17\u001b[1;33m     \u001b[1;33m(\u001b[0m\u001b[0macc_val\u001b[0m\u001b[1;33m,\u001b[0m \u001b[0mactual\u001b[0m\u001b[1;33m,\u001b[0m \u001b[0mpredication\u001b[0m\u001b[1;33m)\u001b[0m\u001b[1;33m,\u001b[0m \u001b[0mmodel\u001b[0m \u001b[1;33m=\u001b[0m \u001b[0mnaiveBayes\u001b[0m\u001b[1;33m(\u001b[0m\u001b[0mtraining\u001b[0m\u001b[1;33m,\u001b[0m \u001b[0mtest\u001b[0m\u001b[1;33m)\u001b[0m\u001b[1;33m\u001b[0m\u001b[0m\n\u001b[0m\u001b[0;32m     18\u001b[0m     \u001b[0macc_sum\u001b[0m \u001b[1;33m=\u001b[0m \u001b[0macc_sum\u001b[0m \u001b[1;33m+\u001b[0m \u001b[0macc_val\u001b[0m\u001b[1;33m\u001b[0m\u001b[0m\n\u001b[0;32m     19\u001b[0m \u001b[1;33m\u001b[0m\u001b[0m\n",
      "\u001b[1;32m<ipython-input-121-b8f3bc5a3def>\u001b[0m in \u001b[0;36mnaiveBayes\u001b[1;34m(training, test, model)\u001b[0m\n\u001b[0;32m      4\u001b[0m     \u001b[0mpredictionAndLabel\u001b[0m \u001b[1;33m=\u001b[0m \u001b[0mtest\u001b[0m\u001b[1;33m.\u001b[0m\u001b[0mmap\u001b[0m\u001b[1;33m(\u001b[0m\u001b[1;32mlambda\u001b[0m \u001b[0mp\u001b[0m\u001b[1;33m:\u001b[0m \u001b[1;33m(\u001b[0m\u001b[0mfloat\u001b[0m\u001b[1;33m(\u001b[0m\u001b[0mmodel\u001b[0m\u001b[1;33m.\u001b[0m\u001b[0mpredict\u001b[0m\u001b[1;33m(\u001b[0m\u001b[0mp\u001b[0m\u001b[1;33m.\u001b[0m\u001b[0mfeatures\u001b[0m\u001b[1;33m)\u001b[0m\u001b[1;33m)\u001b[0m\u001b[1;33m,\u001b[0m \u001b[0mp\u001b[0m\u001b[1;33m.\u001b[0m\u001b[0mlabel\u001b[0m\u001b[1;33m)\u001b[0m\u001b[1;33m)\u001b[0m\u001b[1;33m\u001b[0m\u001b[0m\n\u001b[0;32m      5\u001b[0m     \u001b[0mmetrics\u001b[0m \u001b[1;33m=\u001b[0m \u001b[0mMulticlassMetrics\u001b[0m\u001b[1;33m(\u001b[0m\u001b[0mpredictionAndLabel\u001b[0m\u001b[1;33m)\u001b[0m\u001b[1;33m\u001b[0m\u001b[0m\n\u001b[1;32m----> 6\u001b[1;33m     \u001b[1;32mreturn\u001b[0m \u001b[0mdisplayMetrics\u001b[0m\u001b[1;33m(\u001b[0m\u001b[0mmetrics\u001b[0m\u001b[1;33m,\u001b[0m \u001b[0mpredictionAndLabel\u001b[0m\u001b[1;33m,\u001b[0m \u001b[0mtest\u001b[0m\u001b[1;33m)\u001b[0m\u001b[1;33m,\u001b[0m \u001b[0mmodel\u001b[0m\u001b[1;33m\u001b[0m\u001b[0m\n\u001b[0m",
      "\u001b[1;32m<ipython-input-119-2a9bf69abd8d>\u001b[0m in \u001b[0;36mdisplayMetrics\u001b[1;34m(metrics, predictionAndLabel, test, showMetrics)\u001b[0m\n\u001b[0;32m      5\u001b[0m     \u001b[1;32mif\u001b[0m\u001b[1;33m(\u001b[0m\u001b[0mshowMetrics\u001b[0m\u001b[1;33m)\u001b[0m\u001b[1;33m:\u001b[0m\u001b[1;33m\u001b[0m\u001b[0m\n\u001b[0;32m      6\u001b[0m         \u001b[0mprint\u001b[0m\u001b[1;33m(\u001b[0m\u001b[1;34m'Confusion Matrix:'\u001b[0m\u001b[1;33m)\u001b[0m\u001b[1;33m\u001b[0m\u001b[0m\n\u001b[1;32m----> 7\u001b[1;33m         \u001b[0mprint\u001b[0m\u001b[1;33m(\u001b[0m\u001b[0mmetrics\u001b[0m\u001b[1;33m.\u001b[0m\u001b[0mconfusionMatrix\u001b[0m\u001b[1;33m(\u001b[0m\u001b[1;33m)\u001b[0m\u001b[1;33m.\u001b[0m\u001b[0mtoArray\u001b[0m\u001b[1;33m(\u001b[0m\u001b[1;33m)\u001b[0m\u001b[1;33m)\u001b[0m\u001b[1;33m\u001b[0m\u001b[0m\n\u001b[0m\u001b[0;32m      8\u001b[0m         \u001b[0mprint\u001b[0m\u001b[1;33m(\u001b[0m\u001b[1;34m\"Accuracy = %s\"\u001b[0m \u001b[1;33m%\u001b[0m \u001b[0maccuracy\u001b[0m\u001b[1;33m)\u001b[0m\u001b[1;33m\u001b[0m\u001b[0m\n\u001b[0;32m      9\u001b[0m         \u001b[0mprint\u001b[0m\u001b[1;33m(\u001b[0m\u001b[1;34m\"Precision = %s\"\u001b[0m \u001b[1;33m%\u001b[0m \u001b[0mmetrics\u001b[0m\u001b[1;33m.\u001b[0m\u001b[0mprecision\u001b[0m\u001b[1;33m(\u001b[0m\u001b[1;33m)\u001b[0m\u001b[1;33m)\u001b[0m\u001b[1;33m\u001b[0m\u001b[0m\n",
      "\u001b[1;32m/etc/spark/python/pyspark/mllib/evaluation.py\u001b[0m in \u001b[0;36mconfusionMatrix\u001b[1;34m(self)\u001b[0m\n\u001b[0;32m    212\u001b[0m         \u001b[0mthey\u001b[0m \u001b[0mare\u001b[0m \u001b[0mordered\u001b[0m \u001b[0mby\u001b[0m \u001b[1;32mclass\u001b[0m \u001b[0mlabel\u001b[0m \u001b[0mascending\u001b[0m\u001b[1;33m,\u001b[0m \u001b[1;32mas\u001b[0m \u001b[1;32min\u001b[0m \u001b[1;34m\"labels\"\u001b[0m\u001b[1;33m.\u001b[0m\u001b[1;33m\u001b[0m\u001b[0m\n\u001b[0;32m    213\u001b[0m         \"\"\"\n\u001b[1;32m--> 214\u001b[1;33m         \u001b[1;32mreturn\u001b[0m \u001b[0mself\u001b[0m\u001b[1;33m.\u001b[0m\u001b[0mcall\u001b[0m\u001b[1;33m(\u001b[0m\u001b[1;34m\"confusionMatrix\"\u001b[0m\u001b[1;33m)\u001b[0m\u001b[1;33m\u001b[0m\u001b[0m\n\u001b[0m\u001b[0;32m    215\u001b[0m \u001b[1;33m\u001b[0m\u001b[0m\n\u001b[0;32m    216\u001b[0m     \u001b[1;33m@\u001b[0m\u001b[0msince\u001b[0m\u001b[1;33m(\u001b[0m\u001b[1;34m'1.4.0'\u001b[0m\u001b[1;33m)\u001b[0m\u001b[1;33m\u001b[0m\u001b[0m\n",
      "\u001b[1;32m/etc/spark/python/pyspark/mllib/common.py\u001b[0m in \u001b[0;36mcall\u001b[1;34m(self, name, *a)\u001b[0m\n\u001b[0;32m    144\u001b[0m     \u001b[1;32mdef\u001b[0m \u001b[0mcall\u001b[0m\u001b[1;33m(\u001b[0m\u001b[0mself\u001b[0m\u001b[1;33m,\u001b[0m \u001b[0mname\u001b[0m\u001b[1;33m,\u001b[0m \u001b[1;33m*\u001b[0m\u001b[0ma\u001b[0m\u001b[1;33m)\u001b[0m\u001b[1;33m:\u001b[0m\u001b[1;33m\u001b[0m\u001b[0m\n\u001b[0;32m    145\u001b[0m         \u001b[1;34m\"\"\"Call method of java_model\"\"\"\u001b[0m\u001b[1;33m\u001b[0m\u001b[0m\n\u001b[1;32m--> 146\u001b[1;33m         \u001b[1;32mreturn\u001b[0m \u001b[0mcallJavaFunc\u001b[0m\u001b[1;33m(\u001b[0m\u001b[0mself\u001b[0m\u001b[1;33m.\u001b[0m\u001b[0m_sc\u001b[0m\u001b[1;33m,\u001b[0m \u001b[0mgetattr\u001b[0m\u001b[1;33m(\u001b[0m\u001b[0mself\u001b[0m\u001b[1;33m.\u001b[0m\u001b[0m_java_model\u001b[0m\u001b[1;33m,\u001b[0m \u001b[0mname\u001b[0m\u001b[1;33m)\u001b[0m\u001b[1;33m,\u001b[0m \u001b[1;33m*\u001b[0m\u001b[0ma\u001b[0m\u001b[1;33m)\u001b[0m\u001b[1;33m\u001b[0m\u001b[0m\n\u001b[0m\u001b[0;32m    147\u001b[0m \u001b[1;33m\u001b[0m\u001b[0m\n\u001b[0;32m    148\u001b[0m \u001b[1;33m\u001b[0m\u001b[0m\n",
      "\u001b[1;32m/etc/spark/python/pyspark/mllib/common.py\u001b[0m in \u001b[0;36mcallJavaFunc\u001b[1;34m(sc, func, *args)\u001b[0m\n\u001b[0;32m    121\u001b[0m     \u001b[1;34m\"\"\" Call Java Function \"\"\"\u001b[0m\u001b[1;33m\u001b[0m\u001b[0m\n\u001b[0;32m    122\u001b[0m     \u001b[0margs\u001b[0m \u001b[1;33m=\u001b[0m \u001b[1;33m[\u001b[0m\u001b[0m_py2java\u001b[0m\u001b[1;33m(\u001b[0m\u001b[0msc\u001b[0m\u001b[1;33m,\u001b[0m \u001b[0ma\u001b[0m\u001b[1;33m)\u001b[0m \u001b[1;32mfor\u001b[0m \u001b[0ma\u001b[0m \u001b[1;32min\u001b[0m \u001b[0margs\u001b[0m\u001b[1;33m]\u001b[0m\u001b[1;33m\u001b[0m\u001b[0m\n\u001b[1;32m--> 123\u001b[1;33m     \u001b[1;32mreturn\u001b[0m \u001b[0m_java2py\u001b[0m\u001b[1;33m(\u001b[0m\u001b[0msc\u001b[0m\u001b[1;33m,\u001b[0m \u001b[0mfunc\u001b[0m\u001b[1;33m(\u001b[0m\u001b[1;33m*\u001b[0m\u001b[0margs\u001b[0m\u001b[1;33m)\u001b[0m\u001b[1;33m)\u001b[0m\u001b[1;33m\u001b[0m\u001b[0m\n\u001b[0m\u001b[0;32m    124\u001b[0m \u001b[1;33m\u001b[0m\u001b[0m\n\u001b[0;32m    125\u001b[0m \u001b[1;33m\u001b[0m\u001b[0m\n",
      "\u001b[1;32m/etc/spark/python/lib/py4j-0.9-src.zip/py4j/java_gateway.py\u001b[0m in \u001b[0;36m__call__\u001b[1;34m(self, *args)\u001b[0m\n\u001b[0;32m    809\u001b[0m             \u001b[0mproto\u001b[0m\u001b[1;33m.\u001b[0m\u001b[0mEND_COMMAND_PART\u001b[0m\u001b[1;33m\u001b[0m\u001b[0m\n\u001b[0;32m    810\u001b[0m \u001b[1;33m\u001b[0m\u001b[0m\n\u001b[1;32m--> 811\u001b[1;33m         \u001b[0manswer\u001b[0m \u001b[1;33m=\u001b[0m \u001b[0mself\u001b[0m\u001b[1;33m.\u001b[0m\u001b[0mgateway_client\u001b[0m\u001b[1;33m.\u001b[0m\u001b[0msend_command\u001b[0m\u001b[1;33m(\u001b[0m\u001b[0mcommand\u001b[0m\u001b[1;33m)\u001b[0m\u001b[1;33m\u001b[0m\u001b[0m\n\u001b[0m\u001b[0;32m    812\u001b[0m         return_value = get_return_value(\n\u001b[0;32m    813\u001b[0m             answer, self.gateway_client, self.target_id, self.name)\n",
      "\u001b[1;32m/etc/spark/python/lib/py4j-0.9-src.zip/py4j/java_gateway.py\u001b[0m in \u001b[0;36msend_command\u001b[1;34m(self, command, retry)\u001b[0m\n\u001b[0;32m    624\u001b[0m         \u001b[0mconnection\u001b[0m \u001b[1;33m=\u001b[0m \u001b[0mself\u001b[0m\u001b[1;33m.\u001b[0m\u001b[0m_get_connection\u001b[0m\u001b[1;33m(\u001b[0m\u001b[1;33m)\u001b[0m\u001b[1;33m\u001b[0m\u001b[0m\n\u001b[0;32m    625\u001b[0m         \u001b[1;32mtry\u001b[0m\u001b[1;33m:\u001b[0m\u001b[1;33m\u001b[0m\u001b[0m\n\u001b[1;32m--> 626\u001b[1;33m             \u001b[0mresponse\u001b[0m \u001b[1;33m=\u001b[0m \u001b[0mconnection\u001b[0m\u001b[1;33m.\u001b[0m\u001b[0msend_command\u001b[0m\u001b[1;33m(\u001b[0m\u001b[0mcommand\u001b[0m\u001b[1;33m)\u001b[0m\u001b[1;33m\u001b[0m\u001b[0m\n\u001b[0m\u001b[0;32m    627\u001b[0m             \u001b[0mself\u001b[0m\u001b[1;33m.\u001b[0m\u001b[0m_give_back_connection\u001b[0m\u001b[1;33m(\u001b[0m\u001b[0mconnection\u001b[0m\u001b[1;33m)\u001b[0m\u001b[1;33m\u001b[0m\u001b[0m\n\u001b[0;32m    628\u001b[0m         \u001b[1;32mexcept\u001b[0m \u001b[0mPy4JNetworkError\u001b[0m\u001b[1;33m:\u001b[0m\u001b[1;33m\u001b[0m\u001b[0m\n",
      "\u001b[1;32m/etc/spark/python/lib/py4j-0.9-src.zip/py4j/java_gateway.py\u001b[0m in \u001b[0;36msend_command\u001b[1;34m(self, command)\u001b[0m\n\u001b[0;32m    738\u001b[0m         \u001b[1;32mtry\u001b[0m\u001b[1;33m:\u001b[0m\u001b[1;33m\u001b[0m\u001b[0m\n\u001b[0;32m    739\u001b[0m             \u001b[0mself\u001b[0m\u001b[1;33m.\u001b[0m\u001b[0msocket\u001b[0m\u001b[1;33m.\u001b[0m\u001b[0msendall\u001b[0m\u001b[1;33m(\u001b[0m\u001b[0mcommand\u001b[0m\u001b[1;33m.\u001b[0m\u001b[0mencode\u001b[0m\u001b[1;33m(\u001b[0m\u001b[1;34m\"utf-8\"\u001b[0m\u001b[1;33m)\u001b[0m\u001b[1;33m)\u001b[0m\u001b[1;33m\u001b[0m\u001b[0m\n\u001b[1;32m--> 740\u001b[1;33m             \u001b[0manswer\u001b[0m \u001b[1;33m=\u001b[0m \u001b[0msmart_decode\u001b[0m\u001b[1;33m(\u001b[0m\u001b[0mself\u001b[0m\u001b[1;33m.\u001b[0m\u001b[0mstream\u001b[0m\u001b[1;33m.\u001b[0m\u001b[0mreadline\u001b[0m\u001b[1;33m(\u001b[0m\u001b[1;33m)\u001b[0m\u001b[1;33m[\u001b[0m\u001b[1;33m:\u001b[0m\u001b[1;33m-\u001b[0m\u001b[1;36m1\u001b[0m\u001b[1;33m]\u001b[0m\u001b[1;33m)\u001b[0m\u001b[1;33m\u001b[0m\u001b[0m\n\u001b[0m\u001b[0;32m    741\u001b[0m             \u001b[0mlogger\u001b[0m\u001b[1;33m.\u001b[0m\u001b[0mdebug\u001b[0m\u001b[1;33m(\u001b[0m\u001b[1;34m\"Answer received: {0}\"\u001b[0m\u001b[1;33m.\u001b[0m\u001b[0mformat\u001b[0m\u001b[1;33m(\u001b[0m\u001b[0manswer\u001b[0m\u001b[1;33m)\u001b[0m\u001b[1;33m)\u001b[0m\u001b[1;33m\u001b[0m\u001b[0m\n\u001b[0;32m    742\u001b[0m             \u001b[1;31m# Happens when a the other end is dead. There might be an empty\u001b[0m\u001b[1;33m\u001b[0m\u001b[1;33m\u001b[0m\u001b[0m\n",
      "\u001b[1;32m/usr/lib/python3.4/socket.py\u001b[0m in \u001b[0;36mreadinto\u001b[1;34m(self, b)\u001b[0m\n\u001b[0;32m    372\u001b[0m         \u001b[1;32mwhile\u001b[0m \u001b[1;32mTrue\u001b[0m\u001b[1;33m:\u001b[0m\u001b[1;33m\u001b[0m\u001b[0m\n\u001b[0;32m    373\u001b[0m             \u001b[1;32mtry\u001b[0m\u001b[1;33m:\u001b[0m\u001b[1;33m\u001b[0m\u001b[0m\n\u001b[1;32m--> 374\u001b[1;33m                 \u001b[1;32mreturn\u001b[0m \u001b[0mself\u001b[0m\u001b[1;33m.\u001b[0m\u001b[0m_sock\u001b[0m\u001b[1;33m.\u001b[0m\u001b[0mrecv_into\u001b[0m\u001b[1;33m(\u001b[0m\u001b[0mb\u001b[0m\u001b[1;33m)\u001b[0m\u001b[1;33m\u001b[0m\u001b[0m\n\u001b[0m\u001b[0;32m    375\u001b[0m             \u001b[1;32mexcept\u001b[0m \u001b[0mtimeout\u001b[0m\u001b[1;33m:\u001b[0m\u001b[1;33m\u001b[0m\u001b[0m\n\u001b[0;32m    376\u001b[0m                 \u001b[0mself\u001b[0m\u001b[1;33m.\u001b[0m\u001b[0m_timeout_occurred\u001b[0m \u001b[1;33m=\u001b[0m \u001b[1;32mTrue\u001b[0m\u001b[1;33m\u001b[0m\u001b[0m\n",
      "\u001b[1;31mKeyboardInterrupt\u001b[0m: "
     ]
    }
   ],
   "source": [
    "hashingTF = HashingTF()\n",
    "data = sc.textFile('./data/train.csv', use_unicode=True).map(get_cleaned_tweet)\n",
    "kfold_test = data.randomSplit([0.2,0.2,0.2,0.2,0.2])\n",
    "acc_sum = 0\n",
    "for i in range(5):\n",
    "    test_set = kfold_test[i]\n",
    "    combined_set = None\n",
    "    for j in range(5):\n",
    "        if j != i:\n",
    "            if(combined_set != None):\n",
    "                combined_set = combined_set + kfold_test[j]\n",
    "            else:\n",
    "                combined_set = kfold_test[j]\n",
    "\n",
    "    training = combined_set\n",
    "    test = test_set\n",
    "    (acc_val, actual, predication), model = naiveBayes(training, test)\n",
    "    acc_sum = acc_sum + acc_val\n",
    "\n",
    "print(\"avg accuracy = {}\".format(acc_sum/5))"
   ]
  },
  {
   "cell_type": "markdown",
   "metadata": {},
   "source": [
    "### <font color = 'black'>5. Logistic Regression function</font><br/>\n",
    "<font color = 'black'> Train a Logistic Regression model if not present from the parsed data. Also create the metrics and prediction and label variable</font> "
   ]
  },
  {
   "cell_type": "code",
   "execution_count": 148,
   "metadata": {
    "collapsed": false
   },
   "outputs": [],
   "source": [
    "# logistic regression\n",
    "def logisticRegression(parsedData, test, model=None, showMetrics = True):\n",
    "    if(model == None):\n",
    "        model = LogisticRegressionWithLBFGS.train(parsedData)\n",
    "    predictionAndLabel = test.map(lambda p: (float(model.predict(p.features)), p.label))\n",
    "    metrics = MulticlassMetrics(predictionAndLabel)\n",
    "    return displayMetrics(metrics, predictionAndLabel, test, showMetrics), model"
   ]
  },
  {
   "cell_type": "markdown",
   "metadata": {},
   "source": [
    "<font color = 'black'> Training the model</font> "
   ]
  },
  {
   "cell_type": "code",
   "execution_count": 150,
   "metadata": {
    "collapsed": false
   },
   "outputs": [
    {
     "name": "stdout",
     "output_type": "stream",
     "text": [
      "Confusion Matrix:\n",
      "[[ 7321.  3607.]\n",
      " [ 3137.  7876.]]\n",
      "Accuracy = 0.6926302356319219\n",
      "Precision = 0.6926302356319219\n",
      "Recall = 0.6926302356319219\n",
      "fMeasure = 0.684653511643131\n",
      "\n"
     ]
    }
   ],
   "source": [
    "hashingTF = HashingTF(numFeatures=600)\n",
    "data = sc.textFile('./data/train.csv', use_unicode=True).map(get_cleaned_tweet)\n",
    "parsedData, test = data, data.randomSplit([0.3, 0.8])[0]\n",
    "(acc_val, actual, predication), logistic_model = logisticRegression(parsedData, test)\n",
    "model = logistic_model"
   ]
  },
  {
   "cell_type": "markdown",
   "metadata": {},
   "source": [
    "<font color = 'black'> Testing the model on train data</font> "
   ]
  },
  {
   "cell_type": "code",
   "execution_count": 125,
   "metadata": {
    "collapsed": false
   },
   "outputs": [
    {
     "name": "stdout",
     "output_type": "stream",
     "text": [
      "Confusion Matrix:\n",
      "[[ 115.   62.]\n",
      " [  43.  139.]]\n",
      "Accuracy = 0.7075208913649025\n",
      "Precision = 0.7075208913649025\n",
      "Recall = 0.7075208913649025\n",
      "fMeasure = 0.6865671641791045\n",
      "\n"
     ]
    },
    {
     "data": {
      "image/png": "[encoded data removed]",
      "text/plain": [
       "<matplotlib.figure.Figure at 0x7f1482714f60>"
      ]
     },
     "metadata": {},
     "output_type": "display_data"
    }
   ],
   "source": [
    "hashingTF = HashingTF(numFeatures=600)\n",
    "testcsv_data = sc.textFile('./data/test.csv', use_unicode=True).map(get_cleaned_tweet)\n",
    "(acc_val, actual, predication), model = logisticRegression([], testcsv_data, model)\n",
    "\n",
    "x_val = []\n",
    "y_val = []\n",
    "for i in np.arange(0, 1, 0.05):\n",
    "    model.setThreshold(i)\n",
    "    (acc_val, actual, predication), model = logisticRegression([], testcsv_data, model, False)\n",
    "    x_val.append(actual)\n",
    "    y_val.append(predication)\n",
    "\n",
    "plt.title('Receiver Operating Characteristic')\n",
    "plt.ylabel('True Positive Rate')\n",
    "plt.xlabel('False Positive Rate')\n",
    "plt.plot(y_val, x_val, label='AUC')\n",
    "\n",
    "#plt.plot([0,1],[0,1],'r--')\n",
    "#plt.xlim([0,1])\n",
    "#plt.ylim([0,1])\n",
    "plt.show()"
   ]
  },
  {
   "cell_type": "markdown",
   "metadata": {},
   "source": [
    "<font color = 'black'> 5 fold validation of a Logistic Regression model</font> "
   ]
  },
  {
   "cell_type": "code",
   "execution_count": 21,
   "metadata": {
    "collapsed": false
   },
   "outputs": [
    {
     "name": "stdout",
     "output_type": "stream",
     "text": [
      "Accuracy = 0.6927790763787984\n",
      "Area under PR = 0.7716010159197145\n",
      "Area under ROC = 0.6927310577926814\n",
      "Accuracy = 0.6904003497595403\n",
      "Area under PR = 0.7689782103134173\n",
      "Area under ROC = 0.6904606154617405\n",
      "Accuracy = 0.6943204365079365\n",
      "Area under PR = 0.7759894355349097\n",
      "Area under ROC = 0.6939676262434082\n",
      "Accuracy = 0.6907371453623098\n",
      "Area under PR = 0.7655298309226914\n",
      "Area under ROC = 0.691090265377512\n",
      "Accuracy = 0.6992219109866169\n",
      "Area under PR = 0.776348738286206\n",
      "Area under ROC = 0.6991761077541239\n",
      "avg accuracy = 0.6934917837990404\n"
     ]
    }
   ],
   "source": [
    "hashingTF = HashingTF(numFeatures=600)\n",
    "data = sc.textFile('./data/train.csv', use_unicode=True).map(get_cleaned_tweet)\n",
    "kfold_test = data.randomSplit([0.2,0.2,0.2,0.2,0.2])\n",
    "acc_sum = 0\n",
    "for i in range(5):\n",
    "    test_set = kfold_test[i]\n",
    "    combined_set = None\n",
    "    for j in range(5):\n",
    "        if j != i:\n",
    "            if(combined_set != None):\n",
    "                combined_set = combined_set + kfold_test[j]\n",
    "            else:\n",
    "                combined_set = kfold_test[j]\n",
    "\n",
    "    training = combined_set\n",
    "    test = test_set\n",
    "    (acc_val, actual, predication), model = logisticRegression(training, test)\n",
    "    acc_sum = acc_sum + acc_val\n",
    "\n",
    "print(\"avg accuracy = {}\".format(acc_sum/5))"
   ]
  },
  {
   "cell_type": "markdown",
   "metadata": {},
   "source": [
    "### <font color = 'black'>6. a. Decision tree Modelling function</font><br/>\n",
    "<font color = 'black'> Train a Decision Tree model</font> "
   ]
  },
  {
   "cell_type": "code",
   "execution_count": 179,
   "metadata": {
    "collapsed": false
   },
   "outputs": [],
   "source": [
    "# Decision tree\n",
    "def decisionTree(parsedData, test_decision_tree, model = None):\n",
    "    if(model == None):\n",
    "        model = DecisionTree.trainClassifier(parsedData, numClasses=2, categoricalFeaturesInfo={},\n",
    "                                     impurity='gini', maxDepth=5, maxBins=20)\n",
    "    predictions = model.predict(test_decision_tree.map(lambda x: x.features))\n",
    "    predictionAndLabel = predictions.zip(test_decision_tree.map(lambda lp: lp.label))\n",
    "    metrics = MulticlassMetrics(predictionAndLabel)\n",
    "    return displayMetrics(metrics, predictionAndLabel, test_decision_tree), model"
   ]
  },
  {
   "cell_type": "markdown",
   "metadata": {},
   "source": [
    "<font color = 'black'> Training the model</font> "
   ]
  },
  {
   "cell_type": "code",
   "execution_count": 180,
   "metadata": {
    "collapsed": false
   },
   "outputs": [
    {
     "name": "stdout",
     "output_type": "stream",
     "text": [
      "Confusion Matrix:\n",
      "[[ 6432.  4604.]\n",
      " [ 4044.  6912.]]\n",
      "Accuracy = 0.6067660967624591\n",
      "Precision = 0.6067660967624591\n",
      "Recall = 0.6067660967624591\n",
      "fMeasure = 0.5979918185198959\n",
      "\n"
     ]
    }
   ],
   "source": [
    "# reducing the features length \n",
    "hashingTF = HashingTF(numFeatures=250)\n",
    "data = sc.textFile('./data/train.csv', use_unicode=True).map(get_cleaned_tweet)\n",
    "parsedData, test_decision_tree = data, data.randomSplit([0.3, 0.8])[0]\n",
    "\n",
    "# train using logistic regression\n",
    "(acc_val, actual, predication), model = decisionTree(parsedData, test_decision_tree)"
   ]
  },
  {
   "cell_type": "markdown",
   "metadata": {},
   "source": [
    "<font color = 'black'> Testing the model</font> "
   ]
  },
  {
   "cell_type": "code",
   "execution_count": 54,
   "metadata": {
    "collapsed": false
   },
   "outputs": [
    {
     "name": "stdout",
     "output_type": "stream",
     "text": [
      "Accuracy = 0.5877437325905293\n",
      "Area under PR = 0.6908811360413032\n",
      "Area under ROC = 0.5882069907493637\n"
     ]
    }
   ],
   "source": [
    "hashingTF = HashingTF(numFeatures=250)\n",
    "testcsv_data = sc.textFile('./data/test.csv', use_unicode=True).map(get_cleaned_tweet)\n",
    "(acc_val, actual, predication), model = decisionTree([], testcsv_data, model)"
   ]
  },
  {
   "cell_type": "markdown",
   "metadata": {},
   "source": [
    "<font color = 'black'> 5 fold validation of a Decision tree model</font> "
   ]
  },
  {
   "cell_type": "code",
   "execution_count": 25,
   "metadata": {
    "collapsed": false
   },
   "outputs": [
    {
     "name": "stdout",
     "output_type": "stream",
     "text": [
      "Accuracy = 0.6038404175988069\n",
      "Area under PR = 0.6945628137256861\n",
      "Area under ROC = 0.6035146013460227\n",
      "Accuracy = 0.6055791843882912\n",
      "Area under PR = 0.7135876420177848\n",
      "Area under ROC = 0.6051795695959857\n",
      "Accuracy = 0.5991864831038799\n",
      "Area under PR = 0.6941113291793948\n",
      "Area under ROC = 0.5990697852425196\n",
      "Accuracy = 0.6034169847925402\n",
      "Area under PR = 0.7076648984786549\n",
      "Area under ROC = 0.6038348193791004\n",
      "Accuracy = 0.6084205250297601\n",
      "Area under PR = 0.6970684464903896\n",
      "Area under ROC = 0.6079916929418651\n",
      "avg accuracy = 0.6040887189826556\n"
     ]
    }
   ],
   "source": [
    "hashingTF = HashingTF(numFeatures=200)\n",
    "data = sc.textFile('./data/train.csv', use_unicode=True).map(get_cleaned_tweet)\n",
    "kfold_test = data.randomSplit([0.2,0.2,0.2,0.2,0.2])\n",
    "acc_sum = 0\n",
    "for i in range(5):\n",
    "    test_set = kfold_test[i]\n",
    "    combined_set = None\n",
    "    for j in range(5):\n",
    "        if j != i:\n",
    "            if(combined_set != None):\n",
    "                combined_set = combined_set + kfold_test[j]\n",
    "            else:\n",
    "                combined_set = kfold_test[j]\n",
    "\n",
    "    training = combined_set\n",
    "    test = test_set\n",
    "    (acc_val, actual, predication), model = decisionTree(training, test)\n",
    "    acc_sum = acc_sum + acc_val\n",
    "\n",
    "print(\"avg accuracy = {}\".format(acc_sum/5))"
   ]
  },
  {
   "cell_type": "code",
   "execution_count": 177,
   "metadata": {
    "collapsed": false
   },
   "outputs": [
    {
     "name": "stdout",
     "output_type": "stream",
     "text": [
      "Top 5 correctly predicted tweets:\n",
      "--------------------\n",
      "@faithbabywear Ooooh, what model are you getting??? I have the 40D and LOVE LOVE LOVE LOVE it!\n",
      "@sketchbug Lebron is a hometown hero to me, lol I love the Lakers but let's go Cavs, lol\n",
      "@sklososky Thanks so much!!! ...from one of your *very* happy Kindle2 winners ; ) I was so surprised, fabulous. Thank you! Best, Kathleen\n",
      "@googleio http://twitpic.com/62shi - Yay! Happy place! Place place!  I love Google!\n",
      "@mashable I never did thank you for including me in your Top 100 Twitter Authors! You Rock! (&amp; I New Wave :-D) http://bit.ly/EOrFV\n",
      "\n",
      "Top 5 incorrectly predicted tweets:\n",
      "--------------------\n",
      "Back from seeing 'Star Trek' and 'Night at the Museum.' 'Star Trek' was amazing, but 'Night at the Museum' was; eh.\n",
      "Life?s a bitch? and so is Dick Cheney. #p2 #bipart #tlot #tcot #hhrs #GOP #DNC http://is.gd/DjyQ\n",
      "Monday already. Iran may implode. Kitchen is a disaster. @annagoss seems happy. @sebulous had a nice weekend and @goldpanda is great. whoop.\n",
      "#RantsAndRaves The worst thing about GM (concord / pleasant hill / martinez): is the fucking UAW. ..   http://buzzup.com/4ueb\n",
      "RT @sportsguy33: New Time Warner slogan: \"\"Time Warner, where we make you long for the days before cable.\"\"\n",
      "\n"
     ]
    }
   ],
   "source": [
    "hashingTF = HashingTF(numFeatures=600)\n",
    "testcsv_data = sc.textFile('./data/test.csv', use_unicode=True).map(lambda line: get_cleaned_tweet(line, True))\n",
    "logistic_model.clearThreshold()\n",
    "predicted_data = testcsv_data.map(lambda p: (float(logistic_model.predict(p[1].features)), (p[1].label, p[0])))\n",
    "top5_correct_tweets = [x[1][1] for x in predicted_data.sortByKey(ascending=False).filter(lambda x: x[1][0] == 1).top(5)]\n",
    "print(\"Top 5 correctly predicted tweets:\")\n",
    "print(\"--------------------\")\n",
    "for tweet in top5_correct_tweets:\n",
    "    print(tweet)\n",
    "\n",
    "print()\n",
    "low5_correct_tweets = [x[1][1] for x in predicted_data.sortByKey(ascending=False).filter(lambda x: x[1][0] == 0).top(5)]\n",
    "print(\"Top 5 incorrectly predicted tweets:\")\n",
    "print(\"--------------------\")\n",
    "for tweet in low5_correct_tweets:\n",
    "    print(tweet)\n",
    "print()"
   ]
  },
  {
   "cell_type": "code",
   "execution_count": null,
   "metadata": {
    "collapsed": true
   },
   "outputs": [],
   "source": []
  }
 ],
 "metadata": {
  "kernelspec": {
   "display_name": "Python 3",
   "language": "python",
   "name": "python3"
  },
  "language_info": {
   "codemirror_mode": {
    "name": "ipython",
    "version": 3
   },
   "file_extension": ".py",
   "mimetype": "text/x-python",
   "name": "python",
   "nbconvert_exporter": "python",
   "pygments_lexer": "ipython3",
   "version": "3.4.3"
  }
 },
 "nbformat": 4,
 "nbformat_minor": 0
}
